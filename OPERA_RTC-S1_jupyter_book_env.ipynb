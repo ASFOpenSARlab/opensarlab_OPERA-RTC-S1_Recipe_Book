{
 "cells": [
  {
   "cell_type": "markdown",
   "id": "bc87f32b-195e-483b-b56f-925919866113",
   "metadata": {},
   "source": [
    "# Install Required Software with Conda\n",
    "\n",
    "**Create the Conda Software Environment for the opesarlab_OPERA-RTC-S1_Recipe_Book**\n",
    "\n",
    "<div class=\"alert alert-success\" style=\"display: flex; align-items: center; font-family: 'Times New Roman', Times, serif; background-color: 'rgba(200,0,0,0.2)'\">\n",
    "  <div style=\"width: 95%;\">\n",
    "    <h2><b>Important Notes About Your Jupyter Environment if not in OpenSARLab</b></h2>\n",
    "    <b><i>Tip: Run the notebooks in this Jupyter Book from Jupyter Lab launched from a conda environment containing the required Jupyter packages. \n",
    "        <br/>\n",
    "        This can be accomplished with the following commands:</i></b>\n",
    "    <pre style=\"background-color: #f5f5f5; padding: 10px; border-radius: 5px; border: 1px solid #ccc; overflow: auto;\">\n",
    "      <code>mamba create -n jbook -c conda-forge jupyterlab notebook ipywidgets ipympl nb_conda_kernels</code>\n",
    "      <code>mamba activate jbook</code>\n",
    "      <code>python -m pip install jupyterlab-jupyterbook-navigation</code>\n",
    "      <code>jupyter lab</code>\n",
    "    </pre>\n",
    "      Using this notebook, you will make a second environment containing the data access and science packages needed for the data recipes, but launch Jupyter Lab from an environment like the one provided above.\n",
    "    <ul>\n",
    "        <li>Jupyter selection widgets used in the notebooks require the packages <code>ipywidgets</code> and <code>notebook</code>.</li>\n",
    "        <li>In order to use multiple conda environments in Jupyter Lab at the same time, you must install <code>nb_conda_kernels</code>.</li>\n",
    "        <li>Interactive matplotlib plots requires the package <code>ipympl</code> in the environment running Jupyter Lab</li>\n",
    "        <li>The code cell below will install packages if they are not found, but you will have to restart Jupyter Lab before continuing.</li>\n",
    "    </ul>\n",
    "  </div>\n",
    "</div>\n",
    "\n",
    "\n",
    "<div class=\"alert alert-info\" style=\"display: flex; align-items: center; font-family: 'Times New Roman', Times, serif; background-color: #d1ecf1;\">\n",
    "  <div style=\"display: flex; align-items: center; width: 10%;\">\n",
    "    <a href=\"https://github.com/ASFOpenSARlab/opensarlab_OPERA-CSLC_Recipe_Book/issues\">\n",
    "      <img src=\"https://opensarlab-docs.asf.alaska.edu/opensarlab-notebook-assets/logos/github_issues.png\" alt=\"GitHub logo over the word Issues\" style=\"width: 100%;\">\n",
    "    </a>\n",
    "  </div>\n",
    "  <div style=\"width: 95%;\">\n",
    "    <b>Did you find a bug? Do you have a feature request?</b>\n",
    "    <br/>\n",
    "    Explore GitHub Issues on this Jupyter Book's GitHub repository. Find solutions, add to the discussion, or start a new bug report or feature request: <a href=\"https://github.com/ASFOpenSARlab/opensarlab_OPERA-RTC-S1_Recipe_Book/issues\">opensarlab_OPERA-RTC-S1_Recipe_Book Issues</a>\n",
    "  </div>\n",
    "</div>\n",
    "\n",
    "<div class=\"alert alert-info\" style=\"display: flex; align-items: center; justify-content: space-between; font-family: 'Times New Roman', Times, serif; background-color: #d1ecf1;\">\n",
    "  <div style=\"display: flex; align-items: center; width: 10%; margin-right: 10px;\">\n",
    "    <a href=\"mailto:uso@asf.alaska.edu\">\n",
    "      <img src=\"https://opensarlab-docs.asf.alaska.edu/opensarlab-notebook-assets/logos/ASF_support_logo.png\" alt=\"ASF logo\" style=\"width: 100%\">\n",
    "    </a>\n",
    "  </div>\n",
    "  <div style=\"width: 95%;\">\n",
    "    <b>Have a question related to SAR, OPERA RTCs, or ASF data access?</b>\n",
    "    <br/>\n",
    "    Contact ASF User Support: <a href=\"mailto:uso@asf.alaska.edu\">uso@asf.alaska.edu</a>\n",
    "  </div>\n",
    "</div>\n",
    "\n",
    "---\n",
    "## 0. Import Required Software and Set Some Paths"
   ]
  },
  {
   "cell_type": "code",
   "execution_count": null,
   "id": "e56dc99e-8bbf-4cb8-8cd6-47cbb80709b8",
   "metadata": {},
   "outputs": [],
   "source": [
    "from pathlib import Path\n",
    "import json\n",
    "import shutil\n",
    "import subprocess\n",
    "import yaml\n",
    "\n",
    "try:\n",
    "    import ipywidgets as widgets\n",
    "    import nb_conda_kernels\n",
    "    import notebook\n",
    "except ModuleNotFoundError:\n",
    "    !mamba install -c conda-forge notebook ipywidgets nb_conda_kernels --yes\n",
    "    import ipywidgets as widgets\n",
    "    \n",
    "    print('\\n\\nIf the `notebook package` was installed, you may need to restart Jupyter Lab \\n'\n",
    "    'before widgets in the notebook will display correctly.')  \n",
    "\n",
    "    print('\\n\\nIf the `nb_conda_kernels` package was installed, you may need to restart Jupyter Lab before the \\n'\n",
    "         '`osl_opera_cslc_jbook_env` environment created with this notebook will be available to use \\n'\n",
    "          'with the notebooks in this Jupyter Book that require it')"
   ]
  },
  {
   "cell_type": "markdown",
   "id": "b167d414-50fa-42d8-af35-3657e79d0a60",
   "metadata": {},
   "source": [
    "---\n",
    "## 1. Indicate where you are running this Jupyter Book"
   ]
  },
  {
   "cell_type": "code",
   "execution_count": null,
   "id": "3d2c6e78-72c7-41aa-8121-7bb3f306a3a3",
   "metadata": {},
   "outputs": [],
   "source": [
    "osl_option = widgets.RadioButtons(\n",
    "    options=['In OpenSARLab', 'Not in OpenSARLab'],\n",
    "    description='Where are you working?',\n",
    "    disabled=False,\n",
    "    layout=widgets.Layout(min_width='800px')\n",
    ")\n",
    "display(osl_option)"
   ]
  },
  {
   "cell_type": "markdown",
   "id": "5fc84fd7-5a84-4bcc-a81a-efe0f209c01e",
   "metadata": {},
   "source": [
    "**Determine the conda prefix based on where you are working**"
   ]
  },
  {
   "cell_type": "code",
   "execution_count": null,
   "id": "be3c3423-2616-4da4-8883-68df6fc4e8b8",
   "metadata": {},
   "outputs": [],
   "source": [
    "env_config_dir = Path.cwd() / 'environments'\n",
    "\n",
    "in_osl = 'In' in osl_option.value\n",
    "\n",
    "if in_osl:\n",
    "    conda_prefix = Path.home() / '.local/envs'\n",
    "else:\n",
    "    conda_info = subprocess.run(\n",
    "        ['conda', 'run', '-n', 'base', 'conda', 'info', '--json'], \n",
    "        capture_output=True, \n",
    "        text=True\n",
    "    )\n",
    "    info = json.loads(conda_info.stdout)\n",
    "    conda_prefix = Path(f\"{info['root_prefix']}/envs\")"
   ]
  },
  {
   "cell_type": "markdown",
   "id": "0de77181-7e0d-4422-9879-1e2f91086c08",
   "metadata": {},
   "source": [
    "---\n",
    "## 2. Build the `osl_opera_rtc_s1_jbook_env` Conda Environment\n",
    "\n",
    "**Select whether to create the environment from a config with explicitly pinned package versions or from an unpinned config**\n",
    "\n",
    "After running the following code cell:\n",
    "- Select `Pinned` to create an environment from a linux64 pinned yaml for maximum (but not guaranteed) stability when creating the environment on a 64 bit Linux system\n",
    "- Select `Unpinned` to install the latest package versions on any system architecture"
   ]
  },
  {
   "cell_type": "code",
   "execution_count": null,
   "id": "794564ae-8a4a-4c4b-82c3-9bfc9a481fbb",
   "metadata": {},
   "outputs": [],
   "source": [
    "config_options = widgets.RadioButtons(\n",
    "    options=['Pinned', 'Unpinned'],\n",
    "    description='Create the environment from pinned or unpinned configs',\n",
    "    disabled=False,\n",
    "    layout=widgets.Layout(min_width='800px')\n",
    ")\n",
    "display(config_options)"
   ]
  },
  {
   "cell_type": "code",
   "execution_count": null,
   "id": "adf25b39-2c53-4ec5-ab95-04f93ca7ffce",
   "metadata": {},
   "outputs": [],
   "source": [
    "pinned = 'Pinned' in config_options.value\n",
    "if pinned:\n",
    "    yaml_name = 'opensarlab_OPERA-RTC-S1_recipe_book_locked_env.yaml'\n",
    "else:\n",
    "    yaml_name = 'opensarlab_OPERA-RTC-S1_recipe_book_unlocked_env.yaml'\n",
    "\n",
    "conda_yaml_pth = list(env_config_dir.glob(yaml_name))[0]\n",
    "with open(conda_yaml_pth, 'r') as f:\n",
    "    env = yaml.safe_load(f)\n",
    "    env_name = env['name']\n",
    "\n",
    "env_prefix = conda_prefix / env_name\n",
    "\n",
    "print(f'environment name: {env_name}')\n",
    "print(f'environment prefix: {env_prefix}')"
   ]
  },
  {
   "cell_type": "markdown",
   "id": "1d59a34e-2128-45b7-8602-6b0cc757f6e1",
   "metadata": {},
   "source": [
    "**Clean your mamba and pip caches**"
   ]
  },
  {
   "cell_type": "code",
   "execution_count": null,
   "id": "4efd4666-7436-4cfe-a2cd-e92b86467b1b",
   "metadata": {},
   "outputs": [],
   "source": [
    "!mamba clean -p -t --yes\n",
    "!pip cache purge"
   ]
  },
  {
   "cell_type": "markdown",
   "id": "90ec5786-3520-416b-8df1-78bb024aa5e2",
   "metadata": {},
   "source": [
    "**Create the environment, register its kernel, and delete the default kernel name**"
   ]
  },
  {
   "cell_type": "code",
   "execution_count": null,
   "id": "c262ddfa-ff80-43df-b011-2f63d91fc774",
   "metadata": {},
   "outputs": [],
   "source": [
    "# Create the environment\n",
    "!mamba env remove --prefix $env_prefix --yes\n",
    "!mamba env create -f $conda_yaml_pth --prefix $env_prefix --yes\n",
    "\n",
    "# Provide access to the environment in notebooks as a Jupyter kernel named for the environment \n",
    "!{env_prefix}/bin/python -m ipykernel install --prefix {env_prefix} --name {env_name}\n",
    "\n",
    "# Having created a well-named kernel, delete the default kernel named 'Python'\n",
    "shutil.rmtree(env_prefix/'share/jupyter/kernels/python3')"
   ]
  },
  {
   "cell_type": "code",
   "execution_count": null,
   "id": "30916903-7671-4f0a-85d9-fd6e907dcd75",
   "metadata": {},
   "outputs": [],
   "source": []
  }
 ],
 "metadata": {
  "kernelspec": {
   "display_name": "base",
   "language": "python",
   "name": "python3"
  },
  "language_info": {
   "codemirror_mode": {
    "name": "ipython",
    "version": 3
   },
   "file_extension": ".py",
   "mimetype": "text/x-python",
   "name": "python",
   "nbconvert_exporter": "python",
   "pygments_lexer": "ipython3",
   "version": "3.11.6"
  }
 },
 "nbformat": 4,
 "nbformat_minor": 5
}
