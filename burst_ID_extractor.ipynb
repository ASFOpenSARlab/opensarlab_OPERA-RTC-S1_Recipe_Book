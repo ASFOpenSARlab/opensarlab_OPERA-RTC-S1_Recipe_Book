{
 "cells": [
  {
   "cell_type": "markdown",
   "id": "9e7286af-0496-4046-a1f7-1a0fd3461809",
   "metadata": {},
   "source": [
    "# Burst Extractor: Sentinel-1 Burst IDs From Sentinel-1 Scene IDs\n",
    "\n",
    "Sentinel-1 scenes experience frame shift. Stacks of scenes are not guaranteed to be coregistered, and usually are not.\n",
    "\n",
    "Sentinel-1 bursts are geostationary, and stacks comprised of bursts are coregistered. \n",
    "\n",
    "OPERA data are delivered as bursts. \n",
    "\n",
    "This notebook uses the ASF Burst Extractor to identify burst IDs for a given Sentinel-1 scene. \n",
    "\n",
    "<div class=\"alert alert-info\" style=\"display: flex; align-items: center; font-family: 'Times New Roman', Times, serif; background-color: #d1ecf1;\">\n",
    "  <div style=\"display: flex; align-items: center; width: 10%;\">\n",
    "    <a href=\"https://github.com/ASFOpenSARlab/opensarlab_OPERA-CSLC_Recipe_Book/issues\">\n",
    "      <img src=\"https://opensarlab-docs.asf.alaska.edu/opensarlab-notebook-assets/logos/github_issues.png\" alt=\"GitHub logo over the word Issues\" style=\"width: 100%;\">\n",
    "    </a>\n",
    "  </div>\n",
    "  <div style=\"width: 95%;\">\n",
    "    <b>Did you find a bug? Do you have a feature request?</b>\n",
    "    <br/>\n",
    "    Explore GitHub Issues on this Jupyter Book's GitHub repository. Find solutions, add to the discussion, or start a new bug report or feature request: <a href=\"https://github.com/ASFOpenSARlab/opensarlab_OPERA-RTC-S1_Recipe_Book/issues\">opensarlab_OPERA-RTC-S1_Recipe_Book Issues</a>\n",
    "  </div>\n",
    "</div>\n",
    "\n",
    "<div class=\"alert alert-info\" style=\"display: flex; align-items: center; justify-content: space-between; font-family: 'Times New Roman', Times, serif; background-color: #d1ecf1;\">\n",
    "  <div style=\"display: flex; align-items: center; width: 10%; margin-right: 10px;\">\n",
    "    <a href=\"mailto:uso@asf.alaska.edu\">\n",
    "      <img src=\"https://opensarlab-docs.asf.alaska.edu/opensarlab-notebook-assets/logos/ASF_support_logo.png\" alt=\"ASF logo\" style=\"width: 100%\">\n",
    "    </a>\n",
    "  </div>\n",
    "  <div style=\"width: 95%;\">\n",
    "    <b>Have a question related to SAR, OPERA RTCs, or ASF data access?</b>\n",
    "    <br/>\n",
    "    Contact ASF User Support: <a href=\"mailto:uso@asf.alaska.edu\">uso@asf.alaska.edu</a>\n",
    "  </div>\n",
    "</div>"
   ]
  },
  {
   "cell_type": "code",
   "execution_count": null,
   "id": "214b6571-0404-447c-89d7-01c65d8d9fbc",
   "metadata": {},
   "outputs": [],
   "source": [
    "import getpass\n",
    "import requests\n",
    "\n",
    "import asf_search as disco"
   ]
  },
  {
   "cell_type": "code",
   "execution_count": null,
   "id": "2617b2a4-ddc0-4c30-9999-e37bc25f5568",
   "metadata": {},
   "outputs": [],
   "source": [
    "username = input('Username:')\n",
    "password = getpass.getpass('Password:')\n",
    "\n",
    "try:\n",
    "    session = disco.ASFSession().auth_with_creds(username, password)\n",
    "except disco.ASFAuthenticationError as e:\n",
    "    print(f'Auth failed: {e}')\n",
    "else:\n",
    "    print('Success!')"
   ]
  },
  {
   "cell_type": "code",
   "execution_count": null,
   "id": "6f6fc9e3-6fae-4b90-86e9-ca3d7a1d56a8",
   "metadata": {},
   "outputs": [],
   "source": [
    "scene = input(\"Enter a Sentinel-1 SLC ID\")"
   ]
  },
  {
   "cell_type": "code",
   "execution_count": null,
   "id": "fd135566-5fe2-443b-9136-7f4e69ca61af",
   "metadata": {
    "scrolled": true
   },
   "outputs": [],
   "source": [
    "beam_modes = ['IW1', 'IW2', 'IW3']\n",
    "max_bursts_per_swath = range(15)\n",
    "\n",
    "orbital_path = f\"T{disco.granule_search(scene)[1].properties['pathNumber']:03d}\"\n",
    "\n",
    "run = True\n",
    "while run:\n",
    "    bursts = []\n",
    "    run = False\n",
    "    for beam_mode in beam_modes:\n",
    "        for i in max_bursts_per_swath:\n",
    "            url = f'https://sentinel1-burst.asf.alaska.edu/{scene}/{beam_mode}/VV/{i}.xml'\n",
    "            response = session.get(url)\n",
    "            status = response.status_code\n",
    "            if status != 404:\n",
    "                print(f'{url} {status}')\n",
    "                if status == 200:\n",
    "                    print(response.headers['content-disposition'])\n",
    "                    burst_swath = '-'.join(response.headers['content-disposition'].split(\"filename=\")[-1].split('_')[1:3])\n",
    "                    bursts.append(f\"{orbital_path}-{burst_swath}\")\n",
    "                elif status == 202:\n",
    "                    run = True"
   ]
  },
  {
   "cell_type": "code",
   "execution_count": null,
   "id": "328122a8-d0d2-4ffc-b67c-8937dc951e75",
   "metadata": {},
   "outputs": [],
   "source": [
    "bursts = [b.replace('-', '_') for b in bursts]\n",
    "print(f\"Found {len(bursts)} bursts\") \n",
    "bursts"
   ]
  },
  {
   "cell_type": "code",
   "execution_count": null,
   "id": "755aa354-c177-4270-8d1f-6826313a5ded",
   "metadata": {},
   "outputs": [],
   "source": []
  }
 ],
 "metadata": {
  "kernelspec": {
   "display_name": "osl_opera_rtc_s1_jbook_env [conda env:.local-osl_opera_rtc_s1_jbook_env]",
   "language": "python",
   "name": "conda-env-.local-osl_opera_rtc_s1_jbook_env-osl_opera_rtc_s1_jbook_env"
  },
  "language_info": {
   "codemirror_mode": {
    "name": "ipython",
    "version": 3
   },
   "file_extension": ".py",
   "mimetype": "text/x-python",
   "name": "python",
   "nbconvert_exporter": "python",
   "pygments_lexer": "ipython3",
   "version": "3.12.4"
  }
 },
 "nbformat": 4,
 "nbformat_minor": 5
}
